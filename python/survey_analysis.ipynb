{
 "cells": [
  {
   "cell_type": "code",
   "execution_count": 31,
   "metadata": {},
   "outputs": [],
   "source": [
    "import json\n",
    "import os\n",
    "%matplotlib inline\n",
    "import matplotlib.pyplot as plt\n",
    "import numpy as np\n",
    "import math\n",
    "from scipy import mean\n",
    "import time\n",
    "from sklearn.metrics import confusion_matrix"
   ]
  },
  {
   "cell_type": "code",
   "execution_count": 32,
   "metadata": {},
   "outputs": [],
   "source": [
    "surveyDir = \"C:/Users/ZhanYuan/Desktop/polimi/magistrale/Tesi/local_project/DownloadedResults/Survey\"\n",
    "resultDir = \"C:/Users/ZhanYuan/Desktop/polimi/magistrale/Tesi/local_project/DownloadedResults\"\n",
    "originalMapDir = \"C:/Users/ZhanYuan/Desktop/polimi/magistrale/Tesi/local_project/Python\"\n",
    "fileName = \"Result\""
   ]
  },
  {
   "cell_type": "markdown",
   "metadata": {},
   "source": [
    "## dictionary"
   ]
  },
  {
   "cell_type": "code",
   "execution_count": 33,
   "metadata": {},
   "outputs": [],
   "source": [
    "player_result_dict = dict()\n",
    "player_map_dict = dict()\n",
    "player_survey_dict = dict()\n",
    "result_mapname_dict = dict()"
   ]
  },
  {
   "cell_type": "code",
   "execution_count": 34,
   "metadata": {},
   "outputs": [],
   "source": [
    "# build the dictionary with ip as key and result file name as value\n",
    "\n",
    "resultFinished = False\n",
    "startResultIndex = 1\n",
    "\n",
    "while(resultFinished == False):\n",
    "\n",
    "    \n",
    "    completeResultFilePath = resultDir + \"/\" + fileName + str(startResultIndex) + \"t.txt\"\n",
    "\n",
    "    if os.path.isfile(completeResultFilePath):\n",
    "        with open(completeResultFilePath) as resultFile:\n",
    "            resultData = json.load(resultFile)\n",
    "            resultIp = resultData[\"ip\"]  \n",
    "            resultMap = resultData[\"mapName\"]\n",
    "            \n",
    "            if resultIp not in player_result_dict:\n",
    "                player_result_dict[resultIp] = set()\n",
    "                player_map_dict[resultIp] = set()\n",
    "                \n",
    "            player_result_dict[resultIp].add(fileName + str(startResultIndex) + \"t.txt\")\n",
    "            player_map_dict[resultIp].add(resultMap[0])\n",
    "            result_mapname_dict[fileName + str(startResultIndex) + \"t.txt\"] = set()\n",
    "            result_mapname_dict[fileName + str(startResultIndex) + \"t.txt\"].add(resultMap[0])\n",
    "            startResultIndex += 1\n",
    "\n",
    "    else:\n",
    "        resultFinished = True"
   ]
  },
  {
   "cell_type": "code",
   "execution_count": 35,
   "metadata": {},
   "outputs": [],
   "source": [
    "# build the dictionary with ip as key and map played as value\n",
    "\n",
    "surveyFinished = False\n",
    "startSurveyIndex = 1\n",
    "\n",
    "while(surveyFinished == False):\n",
    "\n",
    "    completeSurveyFilePath = surveyDir + \"/\" + fileName + str(startSurveyIndex) + \".txt\"\n",
    "\n",
    "    if os.path.isfile(completeSurveyFilePath):\n",
    "        with open(completeSurveyFilePath) as surveyFile:\n",
    "            surveyData = json.load(surveyFile)\n",
    "            surveyIp = surveyData[\"ip\"]  \n",
    "            \n",
    "            if surveyIp not in player_survey_dict:\n",
    "                player_survey_dict[surveyIp] = set()\n",
    "                \n",
    "            player_survey_dict[surveyIp].add(fileName + str(startSurveyIndex) + \".txt\")\n",
    "            startSurveyIndex += 1\n",
    "\n",
    "    else:\n",
    "        surveyFinished = True"
   ]
  },
  {
   "cell_type": "code",
   "execution_count": 36,
   "metadata": {},
   "outputs": [
    {
     "name": "stdout",
     "output_type": "stream",
     "text": [
      "Result1t.txt \t->\t {'open1.map'}\n",
      "Result2t.txt \t->\t {'open2.map'}\n",
      "Result3t.txt \t->\t {'open1.map'}\n",
      "Result4t.txt \t->\t {'open1.map'}\n",
      "Result5t.txt \t->\t {'uffici2.map'}\n",
      "Result6t.txt \t->\t {'open2.map'}\n",
      "Result7t.txt \t->\t {'open1.map'}\n",
      "Result8t.txt \t->\t {'open2.map'}\n",
      "Result9t.txt \t->\t {'uffici2.map'}\n",
      "Result10t.txt \t->\t {'open2.map'}\n",
      "Result11t.txt \t->\t {'uffici2.map'}\n",
      "Result12t.txt \t->\t {'uffici1.map'}\n",
      "Result13t.txt \t->\t {'uffici2.map'}\n",
      "Result14t.txt \t->\t {'open2.map'}\n",
      "Result15t.txt \t->\t {'open1.map'}\n",
      "Result16t.txt \t->\t {'open2.map'}\n",
      "Result17t.txt \t->\t {'open1.map'}\n",
      "Result18t.txt \t->\t {'uffici1.map'}\n",
      "Result19t.txt \t->\t {'open1.map'}\n",
      "Result20t.txt \t->\t {'open2.map'}\n",
      "Result21t.txt \t->\t {'open1.map'}\n",
      "Result22t.txt \t->\t {'uffici1.map'}\n",
      "Result23t.txt \t->\t {'uffici2.map'}\n",
      "Result24t.txt \t->\t {'uffici1.map'}\n",
      "Result25t.txt \t->\t {'open1.map'}\n",
      "Result26t.txt \t->\t {'open2.map'}\n",
      "Result27t.txt \t->\t {'uffici2.map'}\n",
      "Result28t.txt \t->\t {'open2.map'}\n"
     ]
    }
   ],
   "source": [
    "for key in result_mapname_dict:\n",
    "    print(key, \"\\t->\\t\", result_mapname_dict[key])"
   ]
  },
  {
   "cell_type": "code",
   "execution_count": 37,
   "metadata": {
    "scrolled": true
   },
   "outputs": [
    {
     "name": "stdout",
     "output_type": "stream",
     "text": [
      "10.81.60.148 \t->\t {'Result1t.txt', 'Result2t.txt'}\n",
      "10.190.28.15 \t->\t {'Result3t.txt'}\n",
      "10.21.145.113 \t->\t {'Result4t.txt'}\n",
      "10.41.203.49 \t->\t {'Result6t.txt', 'Result5t.txt'}\n",
      "10.181.109.73 \t->\t {'Result8t.txt', 'Result7t.txt'}\n",
      "10.7.181.120 \t->\t {'Result9t.txt', 'Result10t.txt'}\n",
      "10.150.134.248 \t->\t {'Result12t.txt', 'Result11t.txt'}\n",
      "10.13.215.245 \t->\t {'Result13t.txt', 'Result14t.txt'}\n",
      "10.31.72.218 \t->\t {'Result15t.txt', 'Result16t.txt'}\n",
      "10.30.82.114 \t->\t {'Result18t.txt', 'Result17t.txt'}\n",
      "10.45.76.149 \t->\t {'Result19t.txt', 'Result20t.txt'}\n",
      "10.45.245.200 \t->\t {'Result21t.txt', 'Result22t.txt'}\n",
      "10.51.190.34 \t->\t {'Result23t.txt', 'Result24t.txt'}\n",
      "10.45.249.93 \t->\t {'Result25t.txt', 'Result26t.txt'}\n",
      "10.65.198.176 \t->\t {'Result27t.txt', 'Result28t.txt'}\n"
     ]
    }
   ],
   "source": [
    "for key in player_result_dict:\n",
    "    print(key, \"\\t->\\t\", player_result_dict[key])"
   ]
  },
  {
   "cell_type": "code",
   "execution_count": 38,
   "metadata": {
    "scrolled": true
   },
   "outputs": [
    {
     "name": "stdout",
     "output_type": "stream",
     "text": [
      "10.81.60.148 \t->\t {'open1.map', 'open2.map'}\n",
      "10.190.28.15 \t->\t {'open1.map'}\n",
      "10.21.145.113 \t->\t {'open1.map'}\n",
      "10.41.203.49 \t->\t {'open2.map', 'uffici2.map'}\n",
      "10.181.109.73 \t->\t {'open1.map', 'open2.map'}\n",
      "10.7.181.120 \t->\t {'open2.map', 'uffici2.map'}\n",
      "10.150.134.248 \t->\t {'uffici1.map', 'uffici2.map'}\n",
      "10.13.215.245 \t->\t {'open2.map', 'uffici2.map'}\n",
      "10.31.72.218 \t->\t {'open1.map', 'open2.map'}\n",
      "10.30.82.114 \t->\t {'uffici1.map', 'open1.map'}\n",
      "10.45.76.149 \t->\t {'open1.map', 'open2.map'}\n",
      "10.45.245.200 \t->\t {'uffici1.map', 'open1.map'}\n",
      "10.51.190.34 \t->\t {'uffici1.map', 'uffici2.map'}\n",
      "10.45.249.93 \t->\t {'open1.map', 'open2.map'}\n",
      "10.65.198.176 \t->\t {'open2.map', 'uffici2.map'}\n"
     ]
    }
   ],
   "source": [
    "for key in player_map_dict:\n",
    "    print(key, \"\\t->\\t\", player_map_dict[key])"
   ]
  },
  {
   "cell_type": "code",
   "execution_count": 39,
   "metadata": {
    "scrolled": true
   },
   "outputs": [
    {
     "name": "stdout",
     "output_type": "stream",
     "text": [
      "10.41.203.49 \t->\t {'Result1.txt'}\n",
      "10.181.109.73 \t->\t {'Result2.txt'}\n",
      "10.7.181.120 \t->\t {'Result3.txt'}\n",
      "10.150.134.248 \t->\t {'Result4.txt'}\n",
      "10.13.215.245 \t->\t {'Result5.txt'}\n",
      "10.31.72.218 \t->\t {'Result6.txt'}\n",
      "10.30.82.114 \t->\t {'Result7.txt'}\n",
      "10.45.76.149 \t->\t {'Result8.txt'}\n",
      "10.45.245.200 \t->\t {'Result9.txt'}\n",
      "10.51.190.34 \t->\t {'Result10.txt'}\n",
      "10.45.249.93 \t->\t {'Result11.txt'}\n",
      "10.65.198.176 \t->\t {'Result12.txt'}\n"
     ]
    }
   ],
   "source": [
    "for key in player_survey_dict:\n",
    "    print(key, \"\\t->\\t\", player_survey_dict[key])"
   ]
  },
  {
   "cell_type": "markdown",
   "metadata": {},
   "source": [
    "## Similarity player\n",
    "\n",
    "#### based on first and second question of survey"
   ]
  },
  {
   "cell_type": "code",
   "execution_count": 40,
   "metadata": {
    "scrolled": false
   },
   "outputs": [
    {
     "name": "stdout",
     "output_type": "stream",
     "text": [
      "10.41.203.49 \t->\t 1 3\n",
      "10.181.109.73 \t->\t 1 2\n",
      "10.7.181.120 \t->\t 1 2\n",
      "10.150.134.248 \t->\t 1 3\n",
      "10.13.215.245 \t->\t 4 3\n",
      "10.31.72.218 \t->\t 1 3\n",
      "10.30.82.114 \t->\t 1 2\n",
      "10.45.76.149 \t->\t 1 2\n",
      "10.45.245.200 \t->\t 2 2\n",
      "10.51.190.34 \t->\t 4 3\n",
      "10.45.249.93 \t->\t 1 3\n",
      "10.65.198.176 \t->\t 4 3\n"
     ]
    },
    {
     "data": {
      "image/png": "[encoded data removed]",
      "text/plain": [
       "<matplotlib.figure.Figure at 0xb24e03a630>"
      ]
     },
     "metadata": {
      "needs_background": "light"
     },
     "output_type": "display_data"
    }
   ],
   "source": [
    "%matplotlib inline\n",
    "startSurveyIndex = 1\n",
    "surveyFinished = False\n",
    "\n",
    "while(surveyFinished == False):\n",
    "      \n",
    "    completeSurveyFilePath = surveyDir + \"/\" + fileName + str(startSurveyIndex) + \".txt\"\n",
    "    \n",
    "    if os.path.isfile(completeSurveyFilePath):\n",
    "        with open(completeSurveyFilePath) as surveyFile:\n",
    "                \n",
    "                data = json.load(surveyFile)\n",
    "                \n",
    "                choiceone = data[\"choiceone\"]\n",
    "                choicetwo = data[\"choicetwo\"]\n",
    "                plt.plot(int(choiceone), int(choicetwo), \"ko\")\n",
    "                print(data[\"ip\"],\"\\t->\\t\", int(choiceone), int(choicetwo))\n",
    "                \n",
    "                startSurveyIndex += 1\n",
    "    else:\n",
    "        surveyFinished = True\n",
    "        \n",
    "plt.show()"
   ]
  },
  {
   "cell_type": "markdown",
   "metadata": {},
   "source": [
    "i \"migliori giocatori\" sono 10.150.134.248, 10.51.190.34, 10.65.198.176"
   ]
  },
  {
   "cell_type": "code",
   "execution_count": 41,
   "metadata": {
    "scrolled": false
   },
   "outputs": [
    {
     "name": "stdout",
     "output_type": "stream",
     "text": [
      "10.41.203.49 \t->\t 2\n",
      "10.181.109.73 \t->\t 3\n",
      "10.7.181.120 \t->\t 1\n",
      "10.150.134.248 \t->\t 3\n",
      "10.13.215.245 \t->\t 2\n",
      "10.31.72.218 \t->\t 1\n",
      "10.30.82.114 \t->\t 2\n",
      "10.45.76.149 \t->\t 1\n",
      "10.45.245.200 \t->\t 3\n",
      "10.51.190.34 \t->\t 3\n",
      "10.45.249.93 \t->\t 2\n",
      "10.65.198.176 \t->\t 3\n"
     ]
    },
    {
     "data": {
      "image/png": "[encoded data removed]",
      "text/plain": [
       "<matplotlib.figure.Figure at 0xb24ed22208>"
      ]
     },
     "metadata": {
      "needs_background": "light"
     },
     "output_type": "display_data"
    }
   ],
   "source": [
    "startSurveyIndex = 1\n",
    "surveyFinished = False\n",
    "\n",
    "while(surveyFinished == False):\n",
    "      \n",
    "    completeSurveyFilePath = surveyDir + \"/\" + fileName + str(startSurveyIndex) + \".txt\"\n",
    "    \n",
    "    if os.path.isfile(completeSurveyFilePath):\n",
    "        with open(completeSurveyFilePath) as surveyFile:\n",
    "                \n",
    "                data = json.load(surveyFile)\n",
    "                \n",
    "                choicethree = data[\"choicethree\"]\n",
    "                mapUsed = data[\"mapname\"]\n",
    "                \n",
    "                if mapUsed == \"uffici1.map\":\n",
    "                    plt.plot(1, int(choicethree), \"ko\")\n",
    "                    \n",
    "                if mapUsed == \"open2.map\":\n",
    "                    plt.plot(2, int(choicethree), \"ko\")\n",
    "                    \n",
    "                \n",
    "                order = -1\n",
    "                if mapUsed in player_map_dict[data[\"ip\"]]:\n",
    "                    order = list(player_map_dict[data[\"ip\"]]).index(mapUsed)\n",
    "                    resultFileString = list(player_result_dict[data[\"ip\"]])[order]\n",
    "                \n",
    "                print(data[\"ip\"],\"\\t->\\t\", int(choicethree))\n",
    "                \n",
    "                startSurveyIndex += 1\n",
    "    else:\n",
    "        surveyFinished = True\n",
    "        \n",
    "plt.show()"
   ]
  },
  {
   "cell_type": "markdown",
   "metadata": {},
   "source": [
    "## draw the path"
   ]
  },
  {
   "cell_type": "code",
   "execution_count": 42,
   "metadata": {},
   "outputs": [],
   "source": [
    "def rotate(x, y, origin, mapName):\n",
    "    \n",
    "    # shift to origin\n",
    "    x1 = x #- origin[0]\n",
    "    y1 = y #- origin[1]\n",
    "\n",
    "    #rotate\n",
    "    x2 = y1\n",
    "    y2 = -x1\n",
    "    \n",
    "    # shift back\n",
    "    x3 = x2\n",
    "    if mapName == \"uffici2.map\":\n",
    "        y3 = y2 +53\n",
    "    if mapName == \"open2.map\":\n",
    "        y3 = y2 +57\n",
    "    if mapName == \"open1.map\":\n",
    "        y3 = y2 +48\n",
    "    if mapName == \"uffici1.map\":\n",
    "        y3 = y2 +54 \n",
    "\n",
    "    return x3, y3"
   ]
  },
  {
   "cell_type": "code",
   "execution_count": 43,
   "metadata": {},
   "outputs": [],
   "source": [
    "def DrawPath(resultFilePath):\n",
    "    completePath = resultDir + \"/\" + resultFilePath\n",
    "    \n",
    "    if os.path.isfile(completePath):\n",
    "        with open(completePath) as pathFile:\n",
    "            data = json.load(pathFile)\n",
    "            mapName = data[\"mapName\"][0]\n",
    "            array_position = data[\"position\"]\n",
    "            \n",
    "            if mapName == \"open1.map\":\n",
    "                originalMapFile = \"open1PythonFormat.map.txt\"\n",
    "            if mapName == \"open2.map\":\n",
    "                originalMapFile = \"open2PythonFormat.map.txt\"\n",
    "            if mapName == \"uffici1.map\":\n",
    "                originalMapFile = \"uffici1PythonFormat.map.txt\"\n",
    "            if mapName == \"uffici2.map\":\n",
    "                originalMapFile = \"uffici2PythonFormat.map.txt\"\n",
    "    \n",
    "    # draw the original map\n",
    "    if os.path.isfile(originalMapDir + \"/\" + originalMapFile):\n",
    "        with open(originalMapDir + \"/\" + originalMapFile) as f:\n",
    "            array = []\n",
    "            content = f.readlines()\n",
    "\n",
    "            content = [x.strip() for x in content]\n",
    "            j = 0\n",
    "            for line in content:\n",
    "                array = line.split(',')\n",
    "                for i in range(len(array)):\n",
    "                    a = int(array[i])\n",
    "                    if a == 1:\n",
    "                        plt.plot(i, len(content)-j, 'ks')\n",
    "                        \n",
    "                    if a == 4:\n",
    "                        plt.plot(i, len(content)-j , 'gs')\n",
    "\n",
    "                j = j + 1 \n",
    "                \n",
    "        \n",
    "    #draw the path\n",
    "    plt.ion()\n",
    "    origin = (0.0,0.0)\n",
    "    for i in range(len(array_position) - 1):\n",
    "        x, z = array_position[i].split(\",\")\n",
    "        x, z = rotate(int(x),int(z), origin, mapName)\n",
    "        \n",
    "        a, b = array_position[i + 1].split(\",\")\n",
    "        a, b = rotate(int(a),int(b), origin, mapName)\n",
    "\n",
    "        plt.plot([x, a], [z, b], 'k-')\n",
    "        plt.pause(0.1)\n",
    "        \n",
    "    plt.show()\n",
    "    \n",
    "            "
   ]
  },
  {
   "cell_type": "code",
   "execution_count": 44,
   "metadata": {
    "scrolled": false
   },
   "outputs": [
    {
     "name": "stdout",
     "output_type": "stream",
     "text": [
      "Using matplotlib backend: Qt5Agg\n"
     ]
    },
    {
     "data": {
      "image/png": "[encoded data removed]",
      "text/plain": [
       "<matplotlib.figure.Figure at 0xb24ffe7da0>"
      ]
     },
     "metadata": {
      "needs_background": "light"
     },
     "output_type": "display_data"
    }
   ],
   "source": [
    "%matplotlib\n",
    "DrawPath(\"Result15t.txt\")"
   ]
  },
  {
   "cell_type": "markdown",
   "metadata": {},
   "source": [
    "## distance analysis"
   ]
  },
  {
   "cell_type": "code",
   "execution_count": 45,
   "metadata": {},
   "outputs": [],
   "source": [
    "def ComputeDistance(array_position):\n",
    "    \n",
    "    distance = 0\n",
    "    \n",
    "    for i in range(len(array_position) - 1):\n",
    "        x, y = array_position[i].split(\",\")\n",
    "        a, b = array_position[i + 1].split(\",\")\n",
    "        x = int(x)\n",
    "        y = int(y)\n",
    "        a = int(a)\n",
    "        b = int(b)\n",
    "        distance += math.sqrt(math.pow(a-x, 2) + math.pow(b-y, 2))\n",
    "    return distance   "
   ]
  },
  {
   "cell_type": "code",
   "execution_count": 46,
   "metadata": {
    "scrolled": true
   },
   "outputs": [],
   "source": [
    "resultFinished = False\n",
    "startResultIndex = 1\n",
    "distance_uffici1 = {}\n",
    "distance_uffici2 = {}\n",
    "distance_open1 = {}\n",
    "distance_open2 = {}\n",
    "\n",
    "while(resultFinished == False):\n",
    "    \n",
    "    completeResultFilePath = resultDir + \"/\" + fileName + str(startResultIndex) + \"t.txt\"\n",
    "    \n",
    "    if os.path.isfile(completeResultFilePath):\n",
    "        with open(completeResultFilePath) as resultFile:\n",
    "\n",
    "            resultData = json.load(resultFile)\n",
    "            \n",
    "            resultIp = resultData[\"ip\"]\n",
    "            resultMap = resultData[\"mapName\"][0]\n",
    "            array_position = resultData[\"position\"]\n",
    "            \n",
    "            if resultMap == \"open1.map\":\n",
    "                distance_open1[resultIp] = ComputeDistance(array_position)               \n",
    "            if resultMap == \"open2.map\":\n",
    "                distance_open2[resultIp] = ComputeDistance(array_position)\n",
    "            if resultMap == \"uffici1.map\":\n",
    "                distance_uffici1[resultIp] = ComputeDistance(array_position)\n",
    "            if resultMap == \"uffici2.map\":\n",
    "                distance_uffici2[resultIp] = ComputeDistance(array_position)\n",
    "            \n",
    "            startResultIndex += 1\n",
    "\n",
    "    else:\n",
    "        resultFinished = True"
   ]
  },
  {
   "cell_type": "markdown",
   "metadata": {},
   "source": [
    "### open1"
   ]
  },
  {
   "cell_type": "code",
   "execution_count": 47,
   "metadata": {
    "scrolled": false
   },
   "outputs": [
    {
     "name": "stdout",
     "output_type": "stream",
     "text": [
      "10.30.82.114 \t 27.52733584216013\n",
      "10.21.145.113 \t 30.41640786499874\n",
      "10.81.60.148 \t 186.69619991867233\n",
      "10.190.28.15 \t 214.8928892247379\n",
      "10.45.249.93 \t 250.8503065539761\n",
      "10.45.245.200 \t 266.58597573261966\n",
      "10.181.109.73 \t 273.7307362563458\n",
      "10.45.76.149 \t 570.5238878058306\n",
      "10.31.72.218 \t 819.467253015037\n"
     ]
    },
    {
     "data": {
      "image/png": "[encoded data removed]",
      "text/plain": [
       "<matplotlib.figure.Figure at 0xb2519d4470>"
      ]
     },
     "metadata": {
      "needs_background": "light"
     },
     "output_type": "display_data"
    },
    {
     "name": "stdout",
     "output_type": "stream",
     "text": [
      "min:  27.52733584216013\n",
      "max:  819.467253015037\n",
      "mean:  293.41011024604205\n"
     ]
    }
   ],
   "source": [
    "%matplotlib inline\n",
    "\n",
    "count = 0\n",
    "open1sorted = sorted(distance_open1.items(), key=lambda kv: kv[1])\n",
    "for i in open1sorted:\n",
    "    print(i[0], \"\\t\", i[1])\n",
    "    plt.plot(count, i[1], \"ro\")\n",
    "    count += 1\n",
    "plt.show()\n",
    "\n",
    "print(\"min: \", open1sorted[0][1])\n",
    "print(\"max: \", open1sorted[len(open1sorted) - 1][1])\n",
    "print(\"mean: \", mean(list(distance_open1.values())))"
   ]
  },
  {
   "cell_type": "markdown",
   "metadata": {},
   "source": [
    "### open2"
   ]
  },
  {
   "cell_type": "code",
   "execution_count": 48,
   "metadata": {
    "scrolled": false
   },
   "outputs": [
    {
     "name": "stdout",
     "output_type": "stream",
     "text": [
      "10.7.181.120 \t 205.17668566812878\n",
      "10.41.203.49 \t 207.9313224755435\n",
      "10.45.76.149 \t 218.64390481503682\n",
      "10.31.72.218 \t 251.8116380115376\n",
      "10.81.60.148 \t 272.2440180965026\n",
      "10.45.249.93 \t 433.63688539384117\n",
      "10.65.198.176 \t 475.18829212013185\n",
      "10.13.215.245 \t 911.4834883904771\n",
      "10.181.109.73 \t 1578.7217031670332\n"
     ]
    },
    {
     "data": {
      "image/png": "[encoded data removed]",
      "text/plain": [
       "<matplotlib.figure.Figure at 0xb25168b940>"
      ]
     },
     "metadata": {
      "needs_background": "light"
     },
     "output_type": "display_data"
    },
    {
     "name": "stdout",
     "output_type": "stream",
     "text": [
      "min:  205.17668566812878\n",
      "max:  1578.7217031670332\n",
      "mean:  506.09310423758143\n"
     ]
    }
   ],
   "source": [
    "%matplotlib inline\n",
    "\n",
    "count = 0\n",
    "open2sorted = sorted(distance_open2.items(), key=lambda kv: kv[1])\n",
    "for i in open2sorted:\n",
    "    print(i[0], \"\\t\", i[1])\n",
    "    plt.plot(count, i[1], \"ro\")\n",
    "    count += 1\n",
    "plt.show()\n",
    "\n",
    "print(\"min: \", open2sorted[0][1])\n",
    "print(\"max: \", open2sorted[len(open2sorted) - 1][1])\n",
    "print(\"mean: \", mean(list(distance_open2.values())))"
   ]
  },
  {
   "cell_type": "markdown",
   "metadata": {},
   "source": [
    "### uffici1"
   ]
  },
  {
   "cell_type": "code",
   "execution_count": 49,
   "metadata": {
    "scrolled": false
   },
   "outputs": [
    {
     "name": "stdout",
     "output_type": "stream",
     "text": [
      "10.45.245.200 \t 384.6177755061994\n",
      "10.150.134.248 \t 596.4647513134933\n",
      "10.30.82.114 \t 725.7327841274413\n",
      "10.51.190.34 \t 808.0884722681133\n"
     ]
    },
    {
     "data": {
      "image/png": "[encoded data removed]",
      "text/plain": [
       "<matplotlib.figure.Figure at 0xb2519e3c18>"
      ]
     },
     "metadata": {
      "needs_background": "light"
     },
     "output_type": "display_data"
    },
    {
     "name": "stdout",
     "output_type": "stream",
     "text": [
      "min:  384.6177755061994\n",
      "max:  808.0884722681133\n",
      "mean:  628.7259458038118\n"
     ]
    }
   ],
   "source": [
    "%matplotlib inline\n",
    "\n",
    "count = 0\n",
    "uffici1sorted = sorted(distance_uffici1.items(), key=lambda kv: kv[1])\n",
    "for i in uffici1sorted:\n",
    "    print(i[0], \"\\t\", i[1])\n",
    "    plt.plot(count, i[1], \"ro\")\n",
    "    count += 1\n",
    "plt.show()\n",
    "\n",
    "print(\"min: \", uffici1sorted[0][1])\n",
    "print(\"max: \", uffici1sorted[len(uffici1sorted) - 1][1])\n",
    "print(\"mean: \", mean(list(distance_uffici1.values())))"
   ]
  },
  {
   "cell_type": "markdown",
   "metadata": {},
   "source": [
    "### uffici2"
   ]
  },
  {
   "cell_type": "code",
   "execution_count": 50,
   "metadata": {
    "scrolled": false
   },
   "outputs": [
    {
     "name": "stdout",
     "output_type": "stream",
     "text": [
      "10.41.203.49 \t 64.6426524245728\n",
      "10.150.134.248 \t 83.55144257626988\n",
      "10.65.198.176 \t 119.37009299206893\n",
      "10.7.181.120 \t 136.48204086418977\n",
      "10.13.215.245 \t 165.87957675224888\n",
      "10.51.190.34 \t 279.12032189870257\n"
     ]
    },
    {
     "data": {
      "image/png": "[encoded data removed]",
      "text/plain": [
       "<matplotlib.figure.Figure at 0xb251e785c0>"
      ]
     },
     "metadata": {
      "needs_background": "light"
     },
     "output_type": "display_data"
    },
    {
     "name": "stdout",
     "output_type": "stream",
     "text": [
      "min:  64.6426524245728\n",
      "max:  279.12032189870257\n",
      "mean:  141.50768791800883\n"
     ]
    }
   ],
   "source": [
    "%matplotlib inline\n",
    "\n",
    "count = 0\n",
    "uffici2sorted = sorted(distance_uffici2.items(), key=lambda kv: kv[1])\n",
    "for i in uffici2sorted:\n",
    "    print(i[0], \"\\t\", i[1])\n",
    "    plt.plot(count, i[1], \"ro\")\n",
    "    count += 1\n",
    "plt.show()\n",
    "\n",
    "print(\"min: \", uffici2sorted[0][1])\n",
    "print(\"max: \", uffici2sorted[len(uffici2sorted) - 1][1])\n",
    "print(\"mean: \", mean(list(distance_uffici2.values())))"
   ]
  },
  {
   "cell_type": "markdown",
   "metadata": {},
   "source": [
    "## area explored"
   ]
  },
  {
   "cell_type": "code",
   "execution_count": 51,
   "metadata": {},
   "outputs": [],
   "source": [
    "def Neighbors(coordinate):\n",
    "    resList = [[0, 0]]\n",
    "    for i in [-2, -1, 0, 1, 2]:\n",
    "        for j in [-2, -1, 0, 1, 2]:\n",
    "            resList = np.append(resList, [[coordinate[0] + i, coordinate[1] + j]], axis=0)\n",
    "    resList = np.delete(resList, 0, 0)        \n",
    "    return resList"
   ]
  },
  {
   "cell_type": "code",
   "execution_count": 52,
   "metadata": {},
   "outputs": [],
   "source": [
    "def AreaExplored(resultFilePath):\n",
    "    completePath = resultDir + \"/\" + resultFilePath\n",
    "    \n",
    "    countFreeTile = 0\n",
    "    countExploredTile = 0\n",
    "\n",
    "    exploredTiles = [[-1, -1]]\n",
    "\n",
    "    \n",
    "    if os.path.isfile(completePath):\n",
    "        with open(completePath) as pathFile:\n",
    "            data = json.load(pathFile)\n",
    "            mapName = data[\"mapName\"][0]\n",
    "            array_position = data[\"position\"]\n",
    "            \n",
    "            if mapName == \"open1.map\":\n",
    "                originalMapFile = \"open1PythonFormat.map.txt\"\n",
    "            if mapName == \"open2.map\":\n",
    "                originalMapFile = \"open2PythonFormat.map.txt\"\n",
    "            if mapName == \"uffici1.map\":\n",
    "                originalMapFile = \"uffici1PythonFormat.map.txt\"\n",
    "            if mapName == \"uffici2.map\":\n",
    "                originalMapFile = \"uffici2PythonFormat.map.txt\"\n",
    "    \n",
    "    #draw explored area\n",
    "\n",
    "    origin = (0.0,0.0)\n",
    "    for i in range(len(array_position)):\n",
    "        x,z = array_position[i].split(\",\")\n",
    "        x, z = rotate(int(x),int(z), origin, mapName)\n",
    "        \n",
    "        area = Neighbors([x, z])\n",
    "        for a in area.tolist():            \n",
    "            if a not in exploredTiles:\n",
    "                exploredTiles = np.append(exploredTiles, [a], axis=0).tolist()\n",
    "    \n",
    "    # draw the original map\n",
    "    if os.path.isfile(originalMapDir + \"/\" + originalMapFile):\n",
    "        with open(originalMapDir + \"/\" + originalMapFile) as f:\n",
    "            array = []\n",
    "            content = f.readlines()\n",
    "\n",
    "            content = [x.strip() for x in content]\n",
    "            j = 0\n",
    "            for line in content:\n",
    "                array = line.split(',')\n",
    "                for i in range(len(array)):\n",
    "                    a = int(array[i])\n",
    "                    if a == 1:\n",
    "                        #plt.plot(i, len(content)-j, 'ks')\n",
    "                        countFreeTile = countFreeTile\n",
    "                    else:\n",
    "                        if [i, len(content)-j] in exploredTiles:\n",
    "                            #plt.plot(i, len(content)-j, 'ys')\n",
    "                            countExploredTile += 1\n",
    "                        if a == 4:\n",
    "                            #plt.plot(i, len(content)-j , 'gs')\n",
    "                            countFreeTile = countFreeTile\n",
    "                        countFreeTile += 1\n",
    "\n",
    "                j = j + 1 \n",
    "                \n",
    "    #plt.show()\n",
    "    \n",
    "    return str(countExploredTile/countFreeTile * 100)\n",
    "    print(\"explored area = \", countExploredTile/countFreeTile * 100,\"%\")"
   ]
  },
  {
   "cell_type": "code",
   "execution_count": 53,
   "metadata": {
    "scrolled": true
   },
   "outputs": [
    {
     "data": {
      "text/plain": [
       "'73.65684575389947'"
      ]
     },
     "execution_count": 53,
     "metadata": {},
     "output_type": "execute_result"
    }
   ],
   "source": [
    "AreaExplored(\"Result2t.txt\")"
   ]
  },
  {
   "cell_type": "code",
   "execution_count": 54,
   "metadata": {
    "scrolled": false
   },
   "outputs": [],
   "source": [
    "startSurveyIndex = 1\n",
    "surveyFinished = False\n",
    "\n",
    "explored_dict = dict()\n",
    "\n",
    "while(surveyFinished == False):\n",
    "      \n",
    "    completeSurveyFilePath = surveyDir + \"/\" + fileName + str(startSurveyIndex) + \".txt\"\n",
    "    \n",
    "    if os.path.isfile(completeSurveyFilePath):\n",
    "        with open(completeSurveyFilePath) as surveyFile:\n",
    "                \n",
    "                data = json.load(surveyFile)\n",
    "                \n",
    "                surveyIp = data[\"ip\"]\n",
    "                choicethree = data[\"choicethree\"]\n",
    "                mapUsed = data[\"mapname\"]\n",
    "                \n",
    "                if choicethree.strip() == \"1\":\n",
    "                    choicethree = \"<50\"\n",
    "                if choicethree.strip() == \"2\":\n",
    "                    choicethree = \"50-75\"\n",
    "                if choicethree.strip() == \"3\":\n",
    "                    choicethree = \">75\"\n",
    "                \n",
    "                if surveyIp not in explored_dict:\n",
    "                    explored_dict[surveyIp] = np.empty(0)\n",
    "                \n",
    "\n",
    "                \n",
    "                startResultIndex = 1\n",
    "                resultFinished = False\n",
    "                \n",
    "                while(resultFinished == False):\n",
    "                    completeResultFilePath = resultDir + \"/\" + fileName + str(startResultIndex) + \"t.txt\"\n",
    "                    \n",
    "                    if os.path.isfile(completeResultFilePath):\n",
    "                        with open(completeResultFilePath) as resultFile:\n",
    "                            resultData = json.load(resultFile)\n",
    "                            \n",
    "                            resultIp = resultData[\"ip\"]\n",
    "                            resultMap = resultData[\"mapName\"][0]\n",
    "                            if resultIp == surveyIp and resultMap == mapUsed:\n",
    "                                area = AreaExplored(fileName + str(startResultIndex) + \"t.txt\")\n",
    "                                explored_dict[surveyIp] = np.append(explored_dict[surveyIp], choicethree)\n",
    "                                explored_dict[surveyIp] = np.append(explored_dict[surveyIp], area)\n",
    "                            startResultIndex += 1\n",
    "                    \n",
    "                    else:\n",
    "                        resultFinished = True\n",
    "                    \n",
    "\n",
    "                \n",
    "                startSurveyIndex += 1\n",
    "    else:\n",
    "        surveyFinished = True\n"
   ]
  },
  {
   "cell_type": "code",
   "execution_count": 55,
   "metadata": {
    "scrolled": false
   },
   "outputs": [
    {
     "name": "stdout",
     "output_type": "stream",
     "text": [
      "10.41.203.49 \t->\t ['50-75' '67.67764298093587']\n",
      "10.181.109.73 \t->\t ['>75' '99.48006932409012']\n",
      "10.7.181.120 \t->\t ['<50' '75.736568457539']\n",
      "10.150.134.248 \t->\t ['>75' '73.17220543806646']\n",
      "10.13.215.245 \t->\t ['50-75' '93.58752166377816']\n",
      "10.31.72.218 \t->\t ['<50' '81.97573656845753']\n",
      "10.30.82.114 \t->\t ['50-75' '79.5166163141994']\n",
      "10.45.76.149 \t->\t ['<50' '56.932409012131714']\n",
      "10.45.245.200 \t->\t ['>75' '67.55287009063444']\n",
      "10.51.190.34 \t->\t ['>75' '77.34138972809667']\n",
      "10.45.249.93 \t->\t ['50-75' '90.72790294627383']\n",
      "10.65.198.176 \t->\t ['>75' '88.12824956672443']\n"
     ]
    }
   ],
   "source": [
    "for i in explored_dict:\n",
    "    print(i, \"\\t->\\t\",explored_dict[i])"
   ]
  },
  {
   "cell_type": "code",
   "execution_count": 56,
   "metadata": {},
   "outputs": [
    {
     "data": {
      "image/png": "[encoded data removed]",
      "text/plain": [
       "<matplotlib.figure.Figure at 0xb2510f6a20>"
      ]
     },
     "metadata": {
      "needs_background": "light"
     },
     "output_type": "display_data"
    }
   ],
   "source": [
    "index = np.arange(len(explored_dict))\n",
    "a1 = np.empty(0)\n",
    "a2 = np.empty(0)\n",
    "b = np.empty(0) \n",
    "\n",
    "for key in player_survey_dict.keys():\n",
    "    \n",
    "    if explored_dict[key][0] ==\"<50\":\n",
    "        lowerLimit = 0.0\n",
    "        upper = 0.5\n",
    "    if explored_dict[key][0] == \"50-75\":\n",
    "        lowerLimit = 0.5\n",
    "        upper = 0.25\n",
    "    if explored_dict[key][0] == \">75\":\n",
    "        lowerLimit = 0.75\n",
    "        upper = 0.25\n",
    "        \n",
    "    a1 = np.append(a1, [lowerLimit])\n",
    "    a2 = np.append(a2, [upper])\n",
    "    \n",
    "    b = np.append(b, [float(explored_dict[key][1]) / 100])\n",
    "    \n",
    "\n",
    "\n",
    "total_width, n = 0.5, 2\n",
    "width = total_width / n\n",
    "index = index - (total_width - width) / 2\n",
    "\n",
    "plt.bar(index, a1,  width=width, )\n",
    "plt.bar(index, a2, bottom=a1, width=width, label='exstimation')\n",
    "plt.bar(index + width, b , width=width, label='real')\n",
    "plt.legend()\n",
    "plt.show()"
   ]
  },
  {
   "cell_type": "markdown",
   "metadata": {},
   "source": [
    "## most probable map"
   ]
  },
  {
   "cell_type": "code",
   "execution_count": 57,
   "metadata": {},
   "outputs": [],
   "source": [
    "surveyFinished = False\n",
    "startSurveyIndex = 1\n",
    "choicefour_dict = {}\n",
    "\n",
    "while(surveyFinished == False):\n",
    "\n",
    "    completeSurveyFilePath = surveyDir + \"/\" + fileName + str(startSurveyIndex) + \".txt\"\n",
    "\n",
    "    if os.path.isfile(completeSurveyFilePath):\n",
    "        with open(completeSurveyFilePath) as surveyFile:\n",
    "            surveyData = json.load(surveyFile)\n",
    "            surveyIp = surveyData[\"ip\"]\n",
    "            choicefour = surveyData[\"choicefour\"]       \n",
    "                \n",
    "            choicefour_dict[surveyIp] = choicefour.strip()\n",
    "            startSurveyIndex += 1\n",
    "\n",
    "    else:\n",
    "        surveyFinished = True"
   ]
  },
  {
   "cell_type": "code",
   "execution_count": 58,
   "metadata": {
    "scrolled": true
   },
   "outputs": [
    {
     "name": "stdout",
     "output_type": "stream",
     "text": [
      "10.41.203.49 \t 2\n",
      "10.181.109.73 \t 3\n",
      "10.7.181.120 \t 2\n",
      "10.150.134.248 \t 2\n",
      "10.13.215.245 \t 1\n",
      "10.31.72.218 \t 3\n",
      "10.30.82.114 \t 1\n",
      "10.45.76.149 \t 2\n",
      "10.45.245.200 \t 1\n",
      "10.51.190.34 \t 1\n",
      "10.45.249.93 \t 1\n",
      "10.65.198.176 \t 2\n"
     ]
    }
   ],
   "source": [
    "for i in choicefour_dict:\n",
    "    print(i, \"\\t\", choicefour_dict[i])"
   ]
  },
  {
   "cell_type": "code",
   "execution_count": 59,
   "metadata": {},
   "outputs": [
    {
     "name": "stdout",
     "output_type": "stream",
     "text": [
      "\t 5 \t 5\n",
      "\t 0 \t 0\n"
     ]
    }
   ],
   "source": [
    "real_y = np.ones(len(choicefour_dict),dtype=np.int8)\n",
    "predicted_y =np.empty(0,dtype=np.int8)\n",
    "for i in choicefour_dict:\n",
    "    predicted_y = np.append(predicted_y, [int(choicefour_dict[i])])\n",
    "\n",
    "cm = confusion_matrix(real_y,predicted_y)\n",
    "\n",
    "print(\"\\t\",cm[0][0],\"\\t\",cm[0][1])\n",
    "print(\"\\t\",cm[1][0],\"\\t\",cm[1][1])"
   ]
  }
 ],
 "metadata": {
  "kernelspec": {
   "display_name": "Python 3",
   "language": "python",
   "name": "python3"
  },
  "language_info": {
   "codemirror_mode": {
    "name": "ipython",
    "version": 3
   },
   "file_extension": ".py",
   "mimetype": "text/x-python",
   "name": "python",
   "nbconvert_exporter": "python",
   "pygments_lexer": "ipython3",
   "version": "3.6.4"
  }
 },
 "nbformat": 4,
 "nbformat_minor": 2
}
